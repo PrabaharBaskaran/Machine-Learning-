{
 "cells": [
  {
   "cell_type": "code",
   "execution_count": 1,
   "id": "875d042b",
   "metadata": {},
   "outputs": [],
   "source": [
    "# We are importing pickle to load the model which we created already\n",
    "import pickle"
   ]
  },
  {
   "cell_type": "code",
   "execution_count": 2,
   "id": "211619ce",
   "metadata": {},
   "outputs": [
    {
     "name": "stderr",
     "output_type": "stream",
     "text": [
      "C:\\ProgramData\\anaconda3\\Lib\\site-packages\\sklearn\\base.py:464: UserWarning: X does not have valid feature names, but LinearRegression was fitted with feature names\n",
      "  warnings.warn(\n"
     ]
    }
   ],
   "source": [
    "# We are loading the saved model in loaded_model variable using pickle.load function.\n",
    "loaded_model=pickle.load(open(\"Final_model_linear.sav\",'rb'))\n",
    "# we are storing the predicted model in result variable here.\n",
    "result=loaded_model.predict([[0]])\n"
   ]
  },
  {
   "cell_type": "code",
   "execution_count": 3,
   "id": "0e33aba9",
   "metadata": {},
   "outputs": [
    {
     "data": {
      "text/plain": [
       "array([[26777.3913412]])"
      ]
     },
     "execution_count": 3,
     "metadata": {},
     "output_type": "execute_result"
    }
   ],
   "source": [
    "# We are checking the result variable output value\n",
    "result"
   ]
  },
  {
   "cell_type": "code",
   "execution_count": null,
   "id": "4bdf0491",
   "metadata": {},
   "outputs": [],
   "source": [
    "# We are creating seperate python file for deplyment phase to use the model hassle free working "
   ]
  }
 ],
 "metadata": {
  "kernelspec": {
   "display_name": "Python 3 (ipykernel)",
   "language": "python",
   "name": "python3"
  },
  "language_info": {
   "codemirror_mode": {
    "name": "ipython",
    "version": 3
   },
   "file_extension": ".py",
   "mimetype": "text/x-python",
   "name": "python",
   "nbconvert_exporter": "python",
   "pygments_lexer": "ipython3",
   "version": "3.11.5"
  }
 },
 "nbformat": 4,
 "nbformat_minor": 5
}
